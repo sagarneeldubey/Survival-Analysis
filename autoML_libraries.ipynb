{
 "cells": [
  {
   "cell_type": "markdown",
   "metadata": {},
   "source": [
    "## auto-sklearn\n",
    "- requires Linux operating system (wasn't able to test out since I'm using Windows, but looks simple enough)\n",
    "- ideal to use if we want to get quick results on what models are best, then do our own feature selection and hyperparameter tuning\n",
    "- https://automl.github.io/auto-sklearn/master/"
   ]
  },
  {
   "cell_type": "markdown",
   "metadata": {},
   "source": [
    "## TPOT (Tree-based Pipeline Optimization Tool)\n",
    "- unlike auto-sklearn, this library performs pre-processing steps and feature selection \n",
    "- downside is that can take few hours to 1 day to run, but very high accuracy\n",
    "- considers the following ML models: naive bayes, tree-based models, logistic regression, linear SVC, k-neighbors classifier\n",
    "- *it also outputs Python code for best models, so we can use that to further tune hyperparameters, if needed*"
   ]
  },
  {
   "cell_type": "code",
   "execution_count": 11,
   "metadata": {},
   "outputs": [],
   "source": [
    "#!pip install tpot\n",
    "#!pip install torch\n",
    "from tpot import TPOTClassifier\n",
    "from sklearn.datasets import load_iris\n",
    "from sklearn.model_selection import train_test_split\n",
    "import numpy as np"
   ]
  },
  {
   "cell_type": "code",
   "execution_count": 12,
   "metadata": {},
   "outputs": [
    {
     "data": {
      "application/vnd.jupyter.widget-view+json": {
       "model_id": "",
       "version_major": 2,
       "version_minor": 0
      },
      "text/plain": [
       "HBox(children=(FloatProgress(value=0.0, description='Optimization Progress', max=300.0, style=ProgressStyle(de…"
      ]
     },
     "metadata": {},
     "output_type": "display_data"
    },
    {
     "name": "stdout",
     "output_type": "stream",
     "text": [
      "\n",
      "Generation 1 - Current best internal CV score: 0.9727272727272727\n",
      "\n",
      "Generation 2 - Current best internal CV score: 0.9727272727272727\n",
      "\n",
      "Generation 3 - Current best internal CV score: 0.9727272727272727\n",
      "\n",
      "Generation 4 - Current best internal CV score: 0.9731225296442687\n",
      "\n",
      "Generation 5 - Current best internal CV score: 0.9731225296442687\n",
      "\n",
      "Best pipeline: RandomForestClassifier(PolynomialFeatures(MultinomialNB(input_matrix, alpha=100.0, fit_prior=True), degree=2, include_bias=False, interaction_only=False), bootstrap=True, criterion=gini, max_features=0.7000000000000001, min_samples_leaf=11, min_samples_split=10, n_estimators=100)\n",
      "0.9736842105263158\n"
     ]
    }
   ],
   "source": [
    "# sample code for classification problem\n",
    "iris = load_iris()\n",
    "X_train, X_test, y_train, y_test = train_test_split(iris.data.astype(np.float64),\n",
    "    iris.target.astype(np.float64), train_size=0.75, test_size=0.25, random_state=42)\n",
    "\n",
    "tpot = TPOTClassifier(generations=5, population_size=50, verbosity=2, random_state=42, scoring='accuracy')\n",
    "#generations: Number of iterations to run optimization process\n",
    "#verbosity: How much information TPOT communicates while it is running (0 = none, 1 = minimal, 2 = high, 3 = all)\n",
    "#scoring: Can change the scoring function (recall, precision, etc.)\n",
    "#can set an upper bound on run time with max_time_mins\n",
    "## more details on parameters that can be changed: https://epistasislab.github.io/tpot/using/\n",
    "\n",
    "tpot.fit(X_train, y_train)\n",
    "print(tpot.score(X_test, y_test))\n",
    "\n",
    "tpot.export('tpot_iris_pipeline.py')"
   ]
  },
  {
   "cell_type": "markdown",
   "metadata": {},
   "source": [
    "## HyperOpt-sklearn\n",
    "- bit more complicated that TPOT, but worthwhile if we care about tuning hyperparameters, as this one has a heavy focus on tuning hyperparameters\n",
    "- also takes few hours to 1 day to run, but very high accuracy\n",
    "- we can also specify which classifier to apply on the dataset. one idea could be is that we start off with TPOT and then use hyperopt-sklearn to tune hyperparameters (alternatively, use sklearn grid search)\n",
    "- http://hyperopt.github.io/hyperopt-sklearn/"
   ]
  },
  {
   "cell_type": "code",
   "execution_count": null,
   "metadata": {},
   "outputs": [],
   "source": [
    "#!pip install hpsklearn\n",
    "\n",
    "# sample code below. i kept getting an error, but can troubleshoot if we decide we're going to go with this library.\n",
    "\n",
    "from pandas import read_csv\n",
    "from sklearn import preprocessing\n",
    "# load dataset\n",
    "url = 'https://raw.githubusercontent.com/jbrownlee/Datasets/master/sonar.csv'\n",
    "dataframe = read_csv(url, header=None)\n",
    "# split into input and output elements\n",
    "data = dataframe.values\n",
    "X, y = data[:, :-1], data[:, -1]\n",
    "print(X.shape, y.shape)\n",
    "# minimally prepare dataset\n",
    "X = X.astype('float32')\n",
    "y = preprocessing.LabelEncoder().fit_transform(y.astype('str'))\n",
    "# split into train and test sets\n",
    "X_train, X_test, y_train, y_test = train_test_split(X, y, test_size=0.33, random_state=1)\n",
    "# define search\n",
    "model = HyperoptEstimator(classifier=any_classifier('cla'), preprocessing=any_preprocessing('pre'), \n",
    "                          algo=tpe.suggest, max_evals=50, trial_timeout=30)\n",
    "model.fit(X_train, y_train)\n",
    "# summarize performance\n",
    "acc = model.score(X_test, y_test)\n",
    "print(\"Accuracy: %.3f\" % acc)\n",
    "# summarize the best model\n",
    "print(model.best_model())"
   ]
  }
 ],
 "metadata": {
  "kernelspec": {
   "display_name": "Python 3",
   "language": "python",
   "name": "python3"
  },
  "language_info": {
   "codemirror_mode": {
    "name": "ipython",
    "version": 3
   },
   "file_extension": ".py",
   "mimetype": "text/x-python",
   "name": "python",
   "nbconvert_exporter": "python",
   "pygments_lexer": "ipython3",
   "version": "3.8.5"
  }
 },
 "nbformat": 4,
 "nbformat_minor": 4
}
